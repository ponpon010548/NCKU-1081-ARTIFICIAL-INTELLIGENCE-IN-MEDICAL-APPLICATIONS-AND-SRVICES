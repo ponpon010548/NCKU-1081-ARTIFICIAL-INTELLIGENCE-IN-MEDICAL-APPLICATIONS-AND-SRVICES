{
 "cells": [
  {
   "cell_type": "code",
   "execution_count": 70,
   "metadata": {},
   "outputs": [],
   "source": [
    "import os\n",
    "import json\n",
    "import pydicom"
   ]
  },
  {
   "cell_type": "code",
   "execution_count": 115,
   "metadata": {},
   "outputs": [
    {
     "name": "stdout",
     "output_type": "stream",
     "text": [
      "Processing : Example 1\n",
      "Processing : Example 2\n",
      "Processing : Example 3\n",
      "===== Finished ! =====\n"
     ]
    }
   ],
   "source": [
    "path = \"C:\\\\Users\\\\PENG\\\\Desktop\\\\Homework1\\\\Homework1\\\\Data\\\\\"\n",
    "folder_list = os.listdir(path)\n",
    "folder_list.sort()\n",
    "\n",
    "for folder in folder_list:\n",
    "    print(\"Processing : \" + folder)\n",
    "    folder_path = path + folder + \"/\"\n",
    "    filename_list = os.listdir(folder_path)\n",
    "    totaldata = dict()\n",
    "    \n",
    "    for filename in filename_list:\n",
    "        data = dict()\n",
    "        ds = pydicom.dcmread(folder_path + filename)\n",
    "\n",
    "        data.setdefault(\"PatientID\",str(ds.PatientID))\n",
    "        data.setdefault(\"ImageType\",str(ds.ImageType))\n",
    "        data.setdefault(\"Modality\",str(ds.Modality))\n",
    "        data.setdefault(\"BodyPartExamined\",str(ds.BodyPartExamined))\n",
    "        data.setdefault(\"StudyDescription\",str(ds.StudyDescription))\n",
    "        data.setdefault(\"SeriesDescription\",str(ds.SeriesDescription))\n",
    "        data.setdefault(\"ImagePositionPatient\",str(ds.ImagePositionPatient))\n",
    "        data.setdefault(\"ImageOrientationPatient\",str(ds.ImageOrientationPatient))\n",
    "        totaldata.setdefault(filename,data)\n",
    "    with open (folder + '.json',\"w\") as f:\n",
    "        json.dump(totaldata,f)\n",
    "print(\"===== Finished ! =====\")"
   ]
  },
  {
   "cell_type": "code",
   "execution_count": null,
   "metadata": {},
   "outputs": [],
   "source": []
  }
 ],
 "metadata": {
  "kernelspec": {
   "display_name": "Python 3",
   "language": "python",
   "name": "python3"
  },
  "language_info": {
   "codemirror_mode": {
    "name": "ipython",
    "version": 3
   },
   "file_extension": ".py",
   "mimetype": "text/x-python",
   "name": "python",
   "nbconvert_exporter": "python",
   "pygments_lexer": "ipython3",
   "version": "3.7.3"
  }
 },
 "nbformat": 4,
 "nbformat_minor": 2
}
